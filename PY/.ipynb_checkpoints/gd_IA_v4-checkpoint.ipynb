{
 "cells": [
  {
   "cell_type": "markdown",
   "metadata": {
    "heading_collapsed": true
   },
   "source": [
    "# <font color='blue'>ALPAR - Governo Digital - Processo Inteligente</font>"
   ]
  },
  {
   "cell_type": "markdown",
   "metadata": {
    "heading_collapsed": true
   },
   "source": [
    "# <font color='red'>recomendação de ações - gravando em MySQL</font>"
   ]
  },
  {
   "cell_type": "code",
   "execution_count": 1,
   "metadata": {
    "ExecuteTime": {
     "end_time": "2022-01-04T13:12:10.498779Z",
     "start_time": "2022-01-04T13:12:09.740920Z"
    },
    "hidden": true
   },
   "outputs": [
    {
     "name": "stdout",
     "output_type": "stream",
     "text": [
      "pandas versão 1.3.3\n",
      "numpy versão 1.20.3\n",
      "csv versão 1.0\n"
     ]
    }
   ],
   "source": [
    "import pandas as pd\n",
    "import numpy as np\n",
    "import copy\n",
    "import csv\n",
    "import codecs\n",
    "import time\n",
    "import datetime\n",
    "from os.path import expanduser\n",
    "import sqlite3\n",
    "\n",
    "print(\"pandas versão\", pd.__version__)\n",
    "print(\"numpy versão\", np.__version__)\n",
    "print(\"csv versão\", csv.__version__)\n",
    "\n",
    "pd.options.display.max_rows = 2000\n",
    "pd.options.display.width = 120\n",
    "pd.options.display.max_colwidth = 100\n",
    "pd.set_option(\"display.max_columns\", None)"
   ]
  },
  {
   "cell_type": "markdown",
   "metadata": {
    "heading_collapsed": true
   },
   "source": [
    "# <font color='black'>trata o dataset total</font>"
   ]
  },
  {
   "cell_type": "code",
   "execution_count": 2,
   "metadata": {
    "ExecuteTime": {
     "end_time": "2022-01-04T13:12:10.505793Z",
     "start_time": "2022-01-04T13:12:10.501792Z"
    },
    "hidden": true
   },
   "outputs": [],
   "source": [
    "# escolhe o ambiente operacional\n",
    "WIN  = True\n",
    "\n",
    "# localização dos arquivos\n",
    "if WIN:\n",
    "    path_db       = 'C:/Users/Administrator/data-export/'\n",
    "else:\n",
    "    path_db       = '/Users/efz/DADOS_ALPAR_GD/'"
   ]
  },
  {
   "cell_type": "code",
   "execution_count": 3,
   "metadata": {
    "ExecuteTime": {
     "end_time": "2022-01-04T13:12:10.519785Z",
     "start_time": "2022-01-04T13:12:10.507791Z"
    },
    "hidden": true
   },
   "outputs": [],
   "source": [
    "# escolhe qual ambiente será carregado\n",
    "# {'chave': ('nome do ambiente', 'in', 'out')}\n",
    "ambientes = {\n",
    "    0: ('produção',        'bd_fontes.sqlite',     'bd_reco.sqlite'),\n",
    "    1: ('homologação',     'bd_fontes_hom.sqlite', 'bd_reco_hom.sqlite'),\n",
    "    2: ('desenvolvimento', 'bd_fontes_dev.sqlite', 'bd_reco_dev.sqlite'),\n",
    "    3: ('simulação',       'bd_fontes_sim.sqlite', 'bd_reco_sim.sqlite'),\n",
    "} \n",
    "\n",
    "# selecione o banco em questão\n",
    "amb = 1\n",
    "\n",
    "ARQ_SQLITE       = ambientes[amb][1]\n",
    "ARQ_SQLITE_RECO  = ambientes[amb][2]"
   ]
  },
  {
   "cell_type": "code",
   "execution_count": 4,
   "metadata": {
    "ExecuteTime": {
     "end_time": "2022-01-04T13:12:10.536780Z",
     "start_time": "2022-01-04T13:12:10.523790Z"
    },
    "hidden": true
   },
   "outputs": [],
   "source": [
    "def Tr_tasks_Antigo(df):\n",
    "    tr = {\n",
    "    'protocolo'                   :'protocolo',\n",
    "    'entidade'                    :'entidade',\n",
    "    'entityCode'                  :'Entidade - código',\n",
    "    'servico'                     :'servico',\n",
    "    'usuario'                     :'Usuário',\n",
    "    'grupo'                       :'Grupo',\n",
    "    'data_conclusao'              :'dthr_conclusao',\n",
    "    'data_atendimento'            :'Data e Hora de atendimento',\n",
    "    'data_criacao'                :'dthr_criacao',\n",
    "    'acao'                        :'acao',\n",
    "    'encaminhado_para'            :'encaminhado_para',\n",
    "    'comentario'                  :'Comentário',\n",
    "    'apoio'                       :'Apoio',\n",
    "    'encerrado'                   :'proc_encerrado',\n",
    "    'cancelado'                   :'proc_cancelado',\n",
    "    'motivo_cancelamento'         :'Motivo de cancelamento',\n",
    "    'notificacao'                 :'Notificação',\n",
    "    'status_externo'              :'Status externo',\n",
    "    'agendamento'                 :'Agendamento',\n",
    "    'data_agendamento'            :'Data de agendamento',\n",
    "    'categoria'                   :'Categoria',\n",
    "    'grupo_responsavel'           :'Grupo responsável',\n",
    "    'prazo'                       :'Prazo (em segundos)',\n",
    "    }\n",
    "    return df.rename(columns=tr)"
   ]
  },
  {
   "cell_type": "code",
   "execution_count": 5,
   "metadata": {
    "ExecuteTime": {
     "end_time": "2022-01-04T13:12:10.797789Z",
     "start_time": "2022-01-04T13:12:10.538792Z"
    },
    "hidden": true
   },
   "outputs": [
    {
     "name": "stdout",
     "output_type": "stream",
     "text": [
      "Le_Dataset_SQLITE - Lendo tabelas do SQLITE... tasks=(1093, 26) OK\n"
     ]
    }
   ],
   "source": [
    "conn = sqlite3.connect(path_db + ARQ_SQLITE)\n",
    "\n",
    "# lê tabelas sqlite\n",
    "print('Le_Dataset_SQLITE - Lendo tabelas do SQLITE...', end=' ')\n",
    "sql_tasks = (\"SELECT * FROM tasks\")\n",
    "\n",
    "df_tasks = pd.read_sql(sql_tasks,   conn, coerce_float=False)\n",
    "\n",
    "# renomeia as colunas\n",
    "df_tasks = Tr_tasks_Antigo(df_tasks)\n",
    "\n",
    "print(f'tasks={df_tasks.shape} OK')\n",
    "\n",
    "# fechar a conexão\n",
    "conn.close()"
   ]
  },
  {
   "cell_type": "code",
   "execution_count": 6,
   "metadata": {
    "ExecuteTime": {
     "end_time": "2022-01-04T13:12:10.820802Z",
     "start_time": "2022-01-04T13:12:10.799790Z"
    },
    "hidden": true
   },
   "outputs": [],
   "source": [
    "# coloca null em todas as colunas com dados vazios ou null\n",
    "df_tasks['dthr_conclusao'] = df_tasks['dthr_conclusao'].replace(['null', '', '-'], np.nan)\n",
    "df_tasks['proc_encerrado'] = df_tasks['proc_encerrado'].replace(['null', ''], '0').astype(np.int8)\n",
    "df_tasks['proc_cancelado'] = df_tasks['proc_cancelado'].replace(['null', ''], '0').astype(np.int8)\n",
    "\n",
    "# transforma datas do tipo string para tipo data\n",
    "df_tasks['dthr_conclusao'] = pd.to_datetime(df_tasks['dthr_conclusao'])\n",
    "df_tasks['dthr_criacao']   = pd.to_datetime(df_tasks['dthr_criacao'])"
   ]
  },
  {
   "cell_type": "code",
   "execution_count": 7,
   "metadata": {
    "ExecuteTime": {
     "end_time": "2022-01-04T13:12:10.831785Z",
     "start_time": "2022-01-04T13:12:10.822790Z"
    },
    "hidden": true
   },
   "outputs": [],
   "source": [
    "# agrupa por protocolo, obtem o máximo de encerrado e cancelado\n",
    "df = df_tasks.groupby('protocolo').agg({'proc_encerrado': 'max', 'proc_cancelado': 'max'})\n",
    "# display(df.sample(10))"
   ]
  },
  {
   "cell_type": "code",
   "execution_count": 8,
   "metadata": {
    "ExecuteTime": {
     "end_time": "2022-01-04T13:12:10.841787Z",
     "start_time": "2022-01-04T13:12:10.833790Z"
    },
    "hidden": true
   },
   "outputs": [],
   "source": [
    "# cria um dataframe de processos encerrados\n",
    "lst_ence = list(df[(df['proc_encerrado'] == 1)].index)\n",
    "\n",
    "# cria um dataframe de processos em andamento\n",
    "lst_anda = list(df[ (df['proc_encerrado'] == 0) & (df['proc_cancelado'] == 0)].index)"
   ]
  },
  {
   "cell_type": "markdown",
   "metadata": {
    "heading_collapsed": true
   },
   "source": [
    "# <font color='black'>cria e trata o dataset de protocolos encerrados</font>"
   ]
  },
  {
   "cell_type": "code",
   "execution_count": 9,
   "metadata": {
    "ExecuteTime": {
     "end_time": "2022-01-04T13:12:10.858789Z",
     "start_time": "2022-01-04T13:12:10.843790Z"
    },
    "hidden": true
   },
   "outputs": [],
   "source": [
    "#colunas que serão utilizadas\n",
    "cols = ['id', 'protocolo', 'entidade', 'Entidade - código', 'servico', 'Usuário', 'Grupo', 'dthr_conclusao',\n",
    "        'Data e Hora de atendimento', 'dthr_criacao', 'acao', 'encaminhado_para', 'Comentário', 'Apoio',\n",
    "        'Motivo de cancelamento', 'Notificação', 'Status externo', 'Agendamento',\n",
    "        'Data de agendamento', 'Categoria', 'Grupo responsável', 'Prazo (em segundos)', 'createdAt', 'updatedAt']\n",
    "# cria dataset de tasks encerradas\n",
    "df_ence = df_tasks[df_tasks['protocolo'].isin(lst_ence)][cols]\n",
    "# display(df_ence.head(10))"
   ]
  },
  {
   "cell_type": "code",
   "execution_count": 10,
   "metadata": {
    "ExecuteTime": {
     "end_time": "2022-01-04T13:12:10.870807Z",
     "start_time": "2022-01-04T13:12:10.862791Z"
    },
    "hidden": true
   },
   "outputs": [],
   "source": [
    "# coloca a string <vazio> nos valores NULL\n",
    "df_ence['encaminhado_para'].fillna('<vazio>', inplace=True)"
   ]
  },
  {
   "cell_type": "code",
   "execution_count": 11,
   "metadata": {
    "ExecuteTime": {
     "end_time": "2022-01-04T13:12:10.889786Z",
     "start_time": "2022-01-04T13:12:10.872790Z"
    },
    "hidden": true
   },
   "outputs": [],
   "source": [
    "# ordena por entidade, serviço, protocolo, dt_criação e recria o índice\n",
    "df_ence = df_ence.sort_values(by=['entidade', 'servico', 'protocolo', 'dthr_criacao']).reset_index(drop=True)"
   ]
  },
  {
   "cell_type": "code",
   "execution_count": 12,
   "metadata": {
    "ExecuteTime": {
     "end_time": "2022-01-04T13:12:10.904794Z",
     "start_time": "2022-01-04T13:12:10.892788Z"
    },
    "hidden": true
   },
   "outputs": [],
   "source": [
    "# calcula a quantidade de dias da ação e exclui as datas de criação e de conclusão\n",
    "df_ence['dias'] = (df_ence['dthr_conclusao'] - df_ence['dthr_criacao']) / np.timedelta64(1, 'D')\n",
    "df_ence.drop(['dthr_conclusao', 'dthr_criacao'], axis=1, inplace=True)"
   ]
  },
  {
   "cell_type": "code",
   "execution_count": 13,
   "metadata": {
    "ExecuteTime": {
     "end_time": "2022-01-04T13:12:10.932783Z",
     "start_time": "2022-01-04T13:12:10.906817Z"
    },
    "hidden": true
   },
   "outputs": [],
   "source": [
    "# agrupa o dataframe por protocolo, entidade e serviço e cria uma tupla de ações como informação de coluna\n",
    "df_ence = (df_ence.groupby(['protocolo', 'entidade', 'servico'])\n",
    "      .agg(\n",
    "        lst_acao=('acao', lambda x: tuple(x)),\n",
    "        lst_encaminhado=('encaminhado_para', lambda x: tuple(x)),\n",
    "        sum_dias=('dias', sum)).reset_index())"
   ]
  },
  {
   "cell_type": "code",
   "execution_count": 14,
   "metadata": {
    "ExecuteTime": {
     "end_time": "2022-01-04T13:12:10.954796Z",
     "start_time": "2022-01-04T13:12:10.935788Z"
    },
    "hidden": true
   },
   "outputs": [],
   "source": [
    "# agrupa o dataframe por protocolo, entidade e serviço e cria uma tupla de ações como informação de coluna\n",
    "df_ence = (df_ence.groupby(['entidade', 'servico', 'lst_acao', 'lst_encaminhado'])\n",
    "      .agg(media_dias=('sum_dias', 'mean')).reset_index())"
   ]
  },
  {
   "cell_type": "markdown",
   "metadata": {
    "heading_collapsed": true
   },
   "source": [
    "# <font color='black'>cria o dataset de protocolos em andamento</font>"
   ]
  },
  {
   "cell_type": "code",
   "execution_count": 15,
   "metadata": {
    "ExecuteTime": {
     "end_time": "2022-01-04T13:12:10.968805Z",
     "start_time": "2022-01-04T13:12:10.956787Z"
    },
    "hidden": true
   },
   "outputs": [],
   "source": [
    "#colunas que serão utilizadas\n",
    "cols = ['id', 'protocolo', 'entidade', 'Entidade - código', 'servico', 'Usuário', 'Grupo',\n",
    "        'Data e Hora de atendimento', 'dthr_criacao', 'acao', 'encaminhado_para', 'Comentário', 'Apoio',\n",
    "        'Motivo de cancelamento', 'Notificação', 'Status externo', 'Agendamento',\n",
    "        'Data de agendamento', 'Categoria', 'Grupo responsável', 'Prazo (em segundos)', 'createdAt', 'updatedAt']\n",
    "# cria dataset de tasks em andamento\n",
    "df_anda = df_tasks[df_tasks['protocolo'].isin(lst_anda)][cols]"
   ]
  },
  {
   "cell_type": "code",
   "execution_count": 16,
   "metadata": {
    "ExecuteTime": {
     "end_time": "2022-01-04T13:12:10.978790Z",
     "start_time": "2022-01-04T13:12:10.970788Z"
    },
    "hidden": true
   },
   "outputs": [],
   "source": [
    "# exclui as linhas com a coluna ação NULL\n",
    "df_anda = df_anda[ (df_anda['acao'] != '' ) & (df_anda['acao'].notna() ) ]"
   ]
  },
  {
   "cell_type": "code",
   "execution_count": 17,
   "metadata": {
    "ExecuteTime": {
     "end_time": "2022-01-04T13:12:10.994785Z",
     "start_time": "2022-01-04T13:12:10.980792Z"
    },
    "hidden": true
   },
   "outputs": [],
   "source": [
    "# ordena por entidade, serviço, protocolo, dt_criação\n",
    "df_anda = df_anda.sort_values(by = ['entidade', 'servico', 'protocolo', 'dthr_criacao']).reset_index(drop=True)"
   ]
  },
  {
   "cell_type": "code",
   "execution_count": 18,
   "metadata": {
    "ExecuteTime": {
     "end_time": "2022-01-04T13:12:11.022797Z",
     "start_time": "2022-01-04T13:12:10.996789Z"
    },
    "hidden": true,
    "scrolled": false
   },
   "outputs": [],
   "source": [
    "# agrupa o dataframe por protocolo, entidade e serviço e cria uma tupla de ações como informação de coluna\n",
    "df_anda = (df_anda.groupby(['protocolo', 'entidade', 'servico'])\n",
    "      .agg(lst_acao=('acao', lambda x: tuple(x)))\n",
    "      .reset_index()).copy()\n",
    "df_anda.sort_values(['entidade', 'servico'], inplace = True)\n",
    "# df_anda"
   ]
  },
  {
   "cell_type": "markdown",
   "metadata": {
    "heading_collapsed": true
   },
   "source": [
    "# <font color='black'>gera estrutura de recomendações</font>"
   ]
  },
  {
   "cell_type": "code",
   "execution_count": 19,
   "metadata": {
    "ExecuteTime": {
     "end_time": "2022-01-04T13:12:11.923737Z",
     "start_time": "2022-01-04T13:12:11.024792Z"
    },
    "hidden": true
   },
   "outputs": [
    {
     "name": "stdout",
     "output_type": "stream",
     "text": [
      "total de protocolos a processar = range(0, 531)\n",
      "0 1\n",
      "100 20\n",
      "200 61\n",
      "300 103\n",
      "400 104\n",
      "500 107\n",
      "530 123\n",
      "tempo = 0.875\n"
     ]
    }
   ],
   "source": [
    "start = time.process_time()\n",
    "tot = 0\n",
    "\n",
    "# analisa cada protocolo em andamento\n",
    "# procura a sequência do protocolo em andamento para sugerir o restante da sequência\n",
    "\n",
    "# zera a lista de recomendações\n",
    "lst_reco = []\n",
    "const_max_tempo = 999999999.9\n",
    "tot_anda = range(len(df_anda))\n",
    "# tot_anda = range(1000)\n",
    "print('total de protocolos a processar =', tot_anda)\n",
    "\n",
    "# para cada protocolo em andamento procura uma coleção de sequências dos protocolos encerrados\n",
    "anda_quebra = [None, None]\n",
    "for i in tot_anda:\n",
    "    if anda_quebra != [df_anda.loc[i, 'entidade'], df_anda.loc[i, 'servico']]:\n",
    "        anda_quebra = [df_anda.loc[i, 'entidade'], df_anda.loc[i, 'servico']]\n",
    "        df_aux1 = df_ence[(df_ence['entidade'] == df_anda.loc[i, 'entidade']) & \n",
    "                          (df_ence['servico'] == df_anda.loc[i, 'servico'])]\n",
    "    \n",
    "    n_acoes = len(df_anda.loc[i, 'lst_acao'])\n",
    "    df_aux = df_aux1[(df_aux1['lst_acao'].apply(lambda x: x[:n_acoes]) == df_anda.loc[i, 'lst_acao'])]\n",
    "    \n",
    "    df_aux.reset_index(inplace = True)\n",
    "    \n",
    "    # zera a variável que vai achar o registro \"entidade/serviço\" com o menor tempo de conclusão\n",
    "    # para quando for achado mais de 1 possibilidade\n",
    "    min_tempo = const_max_tempo\n",
    "    dt = {'sequencia': [], 'encaminhamento': []}\n",
    "\n",
    "    qtd_casos = len(df_aux)\n",
    "    tot += qtd_casos\n",
    "        \n",
    "    for k in range(qtd_casos):\n",
    "        valor = round(np.float64(df_aux.loc[k, 'media_dias']), 6)\n",
    "        if (valor < min_tempo) or (min_tempo == None):\n",
    "            min_tempo = valor\n",
    "            dt = {'sequencia': list(df_aux.loc[k, 'lst_acao']),\n",
    "                  'encaminhamento': list(df_aux.loc[k, 'lst_encaminhado'])}\n",
    "            \n",
    "    indice = len(list(df_anda.loc[i, 'lst_acao'])) if dt else -1\n",
    "    if qtd_casos == 1:\n",
    "        tipo_recomendacao = 2\n",
    "    elif qtd_casos > 1:\n",
    "        tipo_recomendacao = 3\n",
    "    else:\n",
    "        tipo_recomendacao = 1\n",
    "        \n",
    "    it = {'protocolo': df_anda.loc[i, 'protocolo'],\n",
    "            'seq_atual': list(df_anda.loc[i, 'lst_acao']),\n",
    "            'recomendacao': dt,\n",
    "            'tempo_medio': None if min_tempo == const_max_tempo else min_tempo,\n",
    "            'reco_acao_idx': indice,\n",
    "            'qtd_casos' : qtd_casos,\n",
    "            'tipo_recomendacao' : tipo_recomendacao}\n",
    "    lst_reco.append(it)\n",
    "    if i % 100 == 0:\n",
    "        print(i, tot)\n",
    "\n",
    "print(i, tot)\n",
    "print('tempo =', time.process_time() - start)"
   ]
  },
  {
   "cell_type": "markdown",
   "metadata": {
    "heading_collapsed": true
   },
   "source": [
    "# <font color='black'>cria um arquivo com recomendações</font>"
   ]
  },
  {
   "cell_type": "markdown",
   "metadata": {
    "hidden": true
   },
   "source": [
    "## <font color='green'>CRIA as LISTAS de gravação de protocolos e recomendações no MySQL</font>"
   ]
  },
  {
   "cell_type": "code",
   "execution_count": 20,
   "metadata": {
    "ExecuteTime": {
     "end_time": "2022-01-04T13:12:11.941744Z",
     "start_time": "2022-01-04T13:12:11.925747Z"
    },
    "hidden": true
   },
   "outputs": [],
   "source": [
    "# prepara uma lista de tuplas para gravação da tabela \"tb_protocolo\" no MySQL\n",
    "lst_protocolo = []\n",
    "lst_recomenda = []\n",
    "cont_r = 0\n",
    "for k in lst_reco:\n",
    "    prx_acao = None\n",
    "    prx_encaminhamento = None\n",
    "    \n",
    "    n_acoes_ence = len(k['recomendacao']['sequencia'])\n",
    "    for j in range(n_acoes_ence):\n",
    "        cont_r += 1\n",
    "        \n",
    "        if j == k['reco_acao_idx']:\n",
    "            proximo = 1\n",
    "            prx_acao = k['recomendacao']['sequencia'][j]\n",
    "            prx_encaminhamento = k['recomendacao']['encaminhamento'][j]\n",
    "        else:\n",
    "            proximo = 0\n",
    "        \n",
    "        lst_recomenda.append((cont_r,\n",
    "                              j, \n",
    "                              k['protocolo'], \n",
    "                              k['recomendacao']['sequencia'][j], \n",
    "                              k['recomendacao']['encaminhamento'][j], \n",
    "                              proximo\n",
    "                             )\n",
    "        )\n",
    "\n",
    "    lst_protocolo.append((k['protocolo'], \n",
    "                          k['tempo_medio'], \n",
    "                          prx_acao, \n",
    "                          prx_encaminhamento,\n",
    "                          datetime.datetime.now(),\n",
    "                          k['qtd_casos'],\n",
    "                          k['tipo_recomendacao']\n",
    "                         )\n",
    "    )\n",
    "cols_p = ['pk_protocolo', 'tp_medio', 'nm_prox_acao', 'nm_prox_enc', 'dt_timestamp', 'cd_tipo_reco', 'nu_qtd_casos']\n",
    "cols_r = ['sq_acao', 'nu_seq', 'fk_protocolo', 'nm_acao', 'nm_encaminhado', 'fg_proximo']\n",
    "df_protocolo = pd.DataFrame(lst_protocolo, columns=cols_p)\n",
    "df_recomenda = pd.DataFrame(lst_recomenda, columns=cols_r)\n",
    "\n",
    "# display(df_protocolo)\n",
    "# display(df_recomenda)\n"
   ]
  },
  {
   "cell_type": "markdown",
   "metadata": {
    "hidden": true
   },
   "source": [
    "## <font color='green'>GRAVA as tabelas de protocolos e recomendações no MySQL</font>"
   ]
  },
  {
   "cell_type": "code",
   "execution_count": 21,
   "metadata": {
    "ExecuteTime": {
     "end_time": "2022-01-04T13:12:12.031742Z",
     "start_time": "2022-01-04T13:12:11.943745Z"
    },
    "hidden": true
   },
   "outputs": [
    {
     "name": "stdout",
     "output_type": "stream",
     "text": [
      "LoadBD - carregando tabelas ... \n",
      "    carregando tabela tb_protocolo ... OK\n",
      "    carregando tabela tb_recomenda ... OK\n",
      "Tabelas criadas com sucesso\n"
     ]
    }
   ],
   "source": [
    "# import the module\n",
    "print('LoadBD - carregando tabelas ... ')\n",
    "\n",
    "try:\n",
    "    conn = sqlite3.connect(path_db + ARQ_SQLITE_RECO)\n",
    "    \n",
    "    print('    carregando tabela tb_protocolo ... ', end='')\n",
    "    df_protocolo.to_sql('tb_protocolo', con=conn, if_exists='replace', index=False, chunksize = 10000)\n",
    "    print('OK')\n",
    "\n",
    "    print('    carregando tabela tb_recomenda ... ', end='')\n",
    "    df_recomenda.to_sql('tb_recomenda', con=conn, if_exists='replace', index=False, chunksize = 10000)\n",
    "    print('OK')\n",
    "    \n",
    "except ValueError as vx:\n",
    "    print('ERROR -', vx)\n",
    "\n",
    "except Exception as ex: \n",
    "    print('EXCEPTION -', ex)\n",
    "\n",
    "else:\n",
    "    print('Tabelas criadas com sucesso');  \n",
    "\n",
    "finally:\n",
    "    conn.close()\n"
   ]
  },
  {
   "cell_type": "code",
   "execution_count": null,
   "metadata": {
    "hidden": true
   },
   "outputs": [],
   "source": []
  }
 ],
 "metadata": {
  "kernelspec": {
   "display_name": "Python 3 (ipykernel)",
   "language": "python",
   "name": "python3"
  },
  "language_info": {
   "codemirror_mode": {
    "name": "ipython",
    "version": 3
   },
   "file_extension": ".py",
   "mimetype": "text/x-python",
   "name": "python",
   "nbconvert_exporter": "python",
   "pygments_lexer": "ipython3",
   "version": "3.8.11"
  }
 },
 "nbformat": 4,
 "nbformat_minor": 4
}
